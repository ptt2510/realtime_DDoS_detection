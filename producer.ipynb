{
 "cells": [
  {
   "cell_type": "code",
   "execution_count": 2,
   "id": "5157bb7f",
   "metadata": {
    "scrolled": true
   },
   "outputs": [],
   "source": [
    "from kafka import KafkaProducer\n",
    "from json import dumps\n",
    "from time import sleep\n",
    "from random import seed\n",
    "from random import randint\n",
    "from kafka import KafkaAdminClient, KafkaConsumer, KafkaProducer\n",
    "from kafka.admin import NewTopic\n",
    "import json\n",
    "from json import loads\n",
    "from csv import DictReader\n",
    "\n",
    "topic_name = 'DDOS3'\n",
    "kafka_server = 'localhost:9092'\n",
    "\n",
    "producer = KafkaProducer(bootstrap_servers=kafka_server,value_serializer = lambda x:dumps(x).encode('utf-8'))\n",
    "import pandas as pd\n",
    "import numpy as np\n",
    "datai =pd.read_csv(\"D:\\ss.csv\")\n",
    "data= datai.drop([\"src_ip\",\"dst_port\",\"src_port\",\"src_mac\",\"dst_mac\",\"timestamp\",\"flow_byts_s\",\"flow_pkts_s\",\"fwd_pkts_s\",\"bwd_pkts_s\"], axis='columns')\n",
    "data= data.drop([\"dst_ip\"], axis='columns')\n",
    "data=data.dropna()\n",
    "data=np.array(data)\n",
    "seed(1)\n",
    "for i in data:\n",
    "    k=np.array2string(i, precision=4, separator=',',\n",
    "                      suppress_small=True)\n",
    "    producer.send(topic_name, value=k)\n",
    "producer.flush()\n",
    "\n",
    "    "
   ]
  }
 ],
 "metadata": {
  "kernelspec": {
   "display_name": "Python 3 (ipykernel)",
   "language": "python",
   "name": "python3"
  },
  "language_info": {
   "codemirror_mode": {
    "name": "ipython",
    "version": 3
   },
   "file_extension": ".py",
   "mimetype": "text/x-python",
   "name": "python",
   "nbconvert_exporter": "python",
   "pygments_lexer": "ipython3",
   "version": "3.11.5"
  }
 },
 "nbformat": 4,
 "nbformat_minor": 5
}
